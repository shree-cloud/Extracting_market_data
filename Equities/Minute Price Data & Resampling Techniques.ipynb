{
 "cells": [
  {
   "cell_type": "markdown",
   "id": "f1178c71-8e3a-45a0-8fac-4469c8789939",
   "metadata": {},
   "source": [
    "# Notebook Instructions\n",
    "\n",
    "1. If you are new to Jupyter notebooks, please go through this introductory manual <a href='https://quantra.quantinsti.com/quantra-notebook' target=\"_blank\">here</a>.\n",
    "1. Any changes made in this notebook would be lost after you close the browser window. **You can download the notebook to save your work on your PC.**\n",
    "1. Before running this notebook on your local PC:<br>\n",
    "i.  You need to set up a Python environment and the relevant packages on your local PC. To do so, go through the section on \"**Run Codes Locally on Your Machine**\" in the course.<br>\n",
    "ii. You need to **download the zip file available in the last unit** of this course. The zip file contains the data files and/or python modules that might be required to run this notebook."
   ]
  },
  {
   "cell_type": "markdown",
   "id": "81bd8b00",
   "metadata": {
    "id": "wdZ_MadMnnyi"
   },
   "source": [
    "## Minute Price Data & Resampling Techniques\n",
    "\n",
    "So far you have learnt how to download the data points for every day. But sometimes you might need more granularity to test your strategies like a data point for each hour, every 30 minutes or even each minute. In this notebook, you will learn how to download minute level data and how to resample them into different time frames such as 15 minutes and 1 hour. An important point to note here is, you can resample high frequency data to low frequency data, but not the other way round.\n",
    "\n",
    "You will perform the following steps:\n",
    "1. [Download Minute Data](#minute-data)\n",
    "2. [Resample Data](#resample-data)\n",
    "\n",
    "Note: At times, downloading the data may give you errors due to changes in yahoo finance. \n",
    "\n",
    "In such cases, it is recommended to upgrade the `yfinance` package using `pip install --upgrade yfinance`. You can update the 'cell type' for the below from 'Raw NBConvert' to a 'Code' cell. Then restart the kernel and run all of the following cells again."
   ]
  },
  {
   "cell_type": "raw",
   "id": "e5d8ef04",
   "metadata": {},
   "source": [
    "pip install --upgrade yfinance"
   ]
  },
  {
   "cell_type": "markdown",
   "id": "7806b421",
   "metadata": {},
   "source": [
    "## Import Libraries"
   ]
  },
  {
   "cell_type": "code",
   "execution_count": 1,
   "id": "d7547e78",
   "metadata": {},
   "outputs": [],
   "source": [
    "# To fetch financial data\n",
    "import yfinance as yf\n",
    "\n",
    "# For visualisation\n",
    "import matplotlib.pyplot as plt\n",
    "%matplotlib inline\n",
    "plt.style.use('seaborn-darkgrid')"
   ]
  },
  {
   "cell_type": "markdown",
   "id": "c51738a1",
   "metadata": {},
   "source": [
    "<a id='minute-data'></a> \n",
    "## Download Minute Data\n",
    "\n",
    "The `download` method of `yfinance` has parameters `period` and `interval`. You can play around with these parameters to download data for different periods and intervals.\n",
    "\n",
    "You can download the minute data for up to seven days from Yahoo! Finance. The syntax for downloading the minute data of an asset for 5 days is as below:\n",
    "```python\n",
    "yf.download(tickers, period=\"5d\", interval=\"1m\", auto_adjust=True)\n",
    "```\n",
    "\n",
    "Parameters:\n",
    "1. **ticker:** Ticker of the asset.\n",
    "2. **period:** This is the number of days/month of data required. The valid frequencies are `1d, 5d, 1mo, 3mo, 6mo, 1y, 2y, 5y, 10y, ytd, max`.\n",
    "3. **interval:** This is the frequency of data. The valid intervals are `1m, 2m, 5m, 15m, 30m, 60m, 90m, 1h, 1d, 5d, 1wk, 1mo, 3mo`.\n",
    "4. **auto_adjust:** `True` to download adjusted data, else `False`."
   ]
  },
  {
   "cell_type": "code",
   "execution_count": null,
   "id": "755538da",
   "metadata": {
    "id": "bEjU_f9innyi",
    "outputId": "9feb3a25-5adf-4e37-c86b-ce57bcd9c8ac"
   },
   "outputs": [],
   "source": [
    "# Download the minute data for Apple\n",
    "apple_minute_data = yf.download(tickers=\"AAPL\", period=\"5d\", interval=\"1m\", auto_adjust=True)\n",
    "\n",
    "# Display the first 5 rows\n",
    "apple_minute_data.head()"
   ]
  },
  {
   "cell_type": "markdown",
   "id": "40aa48cf",
   "metadata": {
    "id": "nZoXqDiMnnyj"
   },
   "source": [
    "<a id='resample-data'></a> \n",
    "## Resample Data\n",
    "\n",
    "During strategy modelling, you might be required to work with a custom frequency of stock market data such as 15 minutes or 1 hour or even 1 month. If you have minute level data, then you can easily construct the 15 minutes, 1 hour or daily candles by resampling them. Thus, you don't have to buy them separately.\n",
    "\n",
    "In this case, you can use the pandas `resample()` method to convert the stock data to the frequency of your choice.\n",
    "\n",
    "The first step is to define the dictionary with the conversion logic. For example, to get the open value the first value will be used, to get the high value the maximum value will be used and so on. The names `Open`, `High`, `Low`, `Close` and `Volume` should match the column names in your dataframe."
   ]
  },
  {
   "cell_type": "code",
   "execution_count": 3,
   "id": "dba3b1f4",
   "metadata": {
    "id": "30BJOARdnnyj"
   },
   "outputs": [],
   "source": [
    "# Aggregate function\n",
    "ohlcv_dict = {'Open': 'first',\n",
    "              'High': 'max',\n",
    "              'Low': 'min',\n",
    "              'Close': 'last',\n",
    "              'Volume': 'sum'\n",
    "             }"
   ]
  },
  {
   "cell_type": "markdown",
   "id": "183a196d",
   "metadata": {
    "id": "APPueoC6D2-A"
   },
   "source": [
    "You can now use the `resample()` method to resample the data to the desired frequency.\n",
    "\n",
    "Syntax:\n",
    "```python\n",
    "DataFrame.resample(interval).agg(aggregate)\n",
    "```\n",
    "\n",
    "Parameters:\n",
    "1. **interval:** Resampling interval such as 15T for 15 minutes (H is for hour, D is for days, M is for months)\n",
    "2. **aggregate:** Dictionary with aggregating values to be used while resampling\n",
    "\n",
    "Returns: <br>\n",
    "Resampled dataframe\n",
    "\n",
    "### Resample minute data to 15 minutes data"
   ]
  },
  {
   "cell_type": "code",
   "execution_count": 4,
   "id": "c16c45df",
   "metadata": {
    "id": "VDwsXfTFnnyk",
    "outputId": "c2e4bb84-339e-405b-917f-a8767e4195a5"
   },
   "outputs": [
    {
     "data": {
      "text/html": [
       "<div>\n",
       "<style scoped>\n",
       "    .dataframe tbody tr th:only-of-type {\n",
       "        vertical-align: middle;\n",
       "    }\n",
       "\n",
       "    .dataframe tbody tr th {\n",
       "        vertical-align: top;\n",
       "    }\n",
       "\n",
       "    .dataframe thead th {\n",
       "        text-align: right;\n",
       "    }\n",
       "</style>\n",
       "<table border=\"1\" class=\"dataframe\">\n",
       "  <thead>\n",
       "    <tr style=\"text-align: right;\">\n",
       "      <th></th>\n",
       "      <th>Open</th>\n",
       "      <th>High</th>\n",
       "      <th>Low</th>\n",
       "      <th>Close</th>\n",
       "      <th>Volume</th>\n",
       "    </tr>\n",
       "    <tr>\n",
       "      <th>Datetime</th>\n",
       "      <th></th>\n",
       "      <th></th>\n",
       "      <th></th>\n",
       "      <th></th>\n",
       "      <th></th>\n",
       "    </tr>\n",
       "  </thead>\n",
       "  <tbody>\n",
       "    <tr>\n",
       "      <th>2021-10-12 09:30:00-04:00</th>\n",
       "      <td>143.229996</td>\n",
       "      <td>143.250000</td>\n",
       "      <td>142.179993</td>\n",
       "      <td>142.190002</td>\n",
       "      <td>7110172</td>\n",
       "    </tr>\n",
       "    <tr>\n",
       "      <th>2021-10-12 09:45:00-04:00</th>\n",
       "      <td>142.000000</td>\n",
       "      <td>142.419998</td>\n",
       "      <td>141.889999</td>\n",
       "      <td>141.889999</td>\n",
       "      <td>3869784</td>\n",
       "    </tr>\n",
       "    <tr>\n",
       "      <th>2021-10-12 10:00:00-04:00</th>\n",
       "      <td>141.889999</td>\n",
       "      <td>142.289993</td>\n",
       "      <td>141.820099</td>\n",
       "      <td>141.990005</td>\n",
       "      <td>3091824</td>\n",
       "    </tr>\n",
       "    <tr>\n",
       "      <th>2021-10-12 10:15:00-04:00</th>\n",
       "      <td>141.979996</td>\n",
       "      <td>142.230103</td>\n",
       "      <td>141.539993</td>\n",
       "      <td>141.789993</td>\n",
       "      <td>2936942</td>\n",
       "    </tr>\n",
       "    <tr>\n",
       "      <th>2021-10-12 10:30:00-04:00</th>\n",
       "      <td>141.789993</td>\n",
       "      <td>141.839996</td>\n",
       "      <td>141.449997</td>\n",
       "      <td>141.669998</td>\n",
       "      <td>2702070</td>\n",
       "    </tr>\n",
       "  </tbody>\n",
       "</table>\n",
       "</div>"
      ],
      "text/plain": [
       "                                 Open        High         Low       Close  \\\n",
       "Datetime                                                                    \n",
       "2021-10-12 09:30:00-04:00  143.229996  143.250000  142.179993  142.190002   \n",
       "2021-10-12 09:45:00-04:00  142.000000  142.419998  141.889999  141.889999   \n",
       "2021-10-12 10:00:00-04:00  141.889999  142.289993  141.820099  141.990005   \n",
       "2021-10-12 10:15:00-04:00  141.979996  142.230103  141.539993  141.789993   \n",
       "2021-10-12 10:30:00-04:00  141.789993  141.839996  141.449997  141.669998   \n",
       "\n",
       "                            Volume  \n",
       "Datetime                            \n",
       "2021-10-12 09:30:00-04:00  7110172  \n",
       "2021-10-12 09:45:00-04:00  3869784  \n",
       "2021-10-12 10:00:00-04:00  3091824  \n",
       "2021-10-12 10:15:00-04:00  2936942  \n",
       "2021-10-12 10:30:00-04:00  2702070  "
      ]
     },
     "execution_count": 4,
     "metadata": {},
     "output_type": "execute_result"
    }
   ],
   "source": [
    "# Resample data to 15 minutes data\n",
    "apple_minute_data_15M = apple_minute_data.resample('15T').agg(ohlcv_dict)\n",
    "\n",
    "# Drop the missing values\n",
    "apple_minute_data_15M.dropna(inplace=True)\n",
    "\n",
    "# Display the first 5 rows\n",
    "apple_minute_data_15M.head()"
   ]
  },
  {
   "cell_type": "markdown",
   "id": "f5edf9ef",
   "metadata": {},
   "source": [
    "### Resample minute data to 1 hour data"
   ]
  },
  {
   "cell_type": "code",
   "execution_count": 5,
   "id": "c8894f9e",
   "metadata": {
    "id": "vOZ_UarVnnyk",
    "outputId": "9c71dc1d-6c9a-49c1-c870-83f760dcb59f"
   },
   "outputs": [
    {
     "data": {
      "text/html": [
       "<div>\n",
       "<style scoped>\n",
       "    .dataframe tbody tr th:only-of-type {\n",
       "        vertical-align: middle;\n",
       "    }\n",
       "\n",
       "    .dataframe tbody tr th {\n",
       "        vertical-align: top;\n",
       "    }\n",
       "\n",
       "    .dataframe thead th {\n",
       "        text-align: right;\n",
       "    }\n",
       "</style>\n",
       "<table border=\"1\" class=\"dataframe\">\n",
       "  <thead>\n",
       "    <tr style=\"text-align: right;\">\n",
       "      <th></th>\n",
       "      <th>Open</th>\n",
       "      <th>High</th>\n",
       "      <th>Low</th>\n",
       "      <th>Close</th>\n",
       "      <th>Volume</th>\n",
       "    </tr>\n",
       "    <tr>\n",
       "      <th>Datetime</th>\n",
       "      <th></th>\n",
       "      <th></th>\n",
       "      <th></th>\n",
       "      <th></th>\n",
       "      <th></th>\n",
       "    </tr>\n",
       "  </thead>\n",
       "  <tbody>\n",
       "    <tr>\n",
       "      <th>2021-10-12 09:00:00-04:00</th>\n",
       "      <td>143.229996</td>\n",
       "      <td>143.250000</td>\n",
       "      <td>141.889999</td>\n",
       "      <td>141.889999</td>\n",
       "      <td>10979956</td>\n",
       "    </tr>\n",
       "    <tr>\n",
       "      <th>2021-10-12 10:00:00-04:00</th>\n",
       "      <td>141.889999</td>\n",
       "      <td>142.289993</td>\n",
       "      <td>141.419998</td>\n",
       "      <td>141.529999</td>\n",
       "      <td>10837085</td>\n",
       "    </tr>\n",
       "    <tr>\n",
       "      <th>2021-10-12 11:00:00-04:00</th>\n",
       "      <td>141.539993</td>\n",
       "      <td>142.309998</td>\n",
       "      <td>141.539993</td>\n",
       "      <td>142.300003</td>\n",
       "      <td>6726913</td>\n",
       "    </tr>\n",
       "    <tr>\n",
       "      <th>2021-10-12 12:00:00-04:00</th>\n",
       "      <td>142.300003</td>\n",
       "      <td>142.979996</td>\n",
       "      <td>141.800003</td>\n",
       "      <td>141.850006</td>\n",
       "      <td>8703717</td>\n",
       "    </tr>\n",
       "    <tr>\n",
       "      <th>2021-10-12 13:00:00-04:00</th>\n",
       "      <td>141.850006</td>\n",
       "      <td>142.110001</td>\n",
       "      <td>141.630005</td>\n",
       "      <td>141.895294</td>\n",
       "      <td>5263983</td>\n",
       "    </tr>\n",
       "  </tbody>\n",
       "</table>\n",
       "</div>"
      ],
      "text/plain": [
       "                                 Open        High         Low       Close  \\\n",
       "Datetime                                                                    \n",
       "2021-10-12 09:00:00-04:00  143.229996  143.250000  141.889999  141.889999   \n",
       "2021-10-12 10:00:00-04:00  141.889999  142.289993  141.419998  141.529999   \n",
       "2021-10-12 11:00:00-04:00  141.539993  142.309998  141.539993  142.300003   \n",
       "2021-10-12 12:00:00-04:00  142.300003  142.979996  141.800003  141.850006   \n",
       "2021-10-12 13:00:00-04:00  141.850006  142.110001  141.630005  141.895294   \n",
       "\n",
       "                             Volume  \n",
       "Datetime                             \n",
       "2021-10-12 09:00:00-04:00  10979956  \n",
       "2021-10-12 10:00:00-04:00  10837085  \n",
       "2021-10-12 11:00:00-04:00   6726913  \n",
       "2021-10-12 12:00:00-04:00   8703717  \n",
       "2021-10-12 13:00:00-04:00   5263983  "
      ]
     },
     "execution_count": 5,
     "metadata": {},
     "output_type": "execute_result"
    }
   ],
   "source": [
    "# Resample data to 1 hour data\n",
    "apple_minute_data_1H = apple_minute_data.resample('1H').agg(ohlcv_dict)\n",
    "\n",
    "# Drop the missing values\n",
    "apple_minute_data_1H.dropna(inplace=True)\n",
    "\n",
    "# Display the first 5 rows\n",
    "apple_minute_data_1H.head()"
   ]
  },
  {
   "cell_type": "markdown",
   "id": "c02aa07e",
   "metadata": {},
   "source": [
    "### Resample minute data to 4 hours data"
   ]
  },
  {
   "cell_type": "code",
   "execution_count": 6,
   "id": "8ac320cd",
   "metadata": {
    "id": "Fg3dMJ-Ynnyk",
    "outputId": "abcae89e-32af-4df9-baae-0568bf857a7b"
   },
   "outputs": [
    {
     "data": {
      "text/html": [
       "<div>\n",
       "<style scoped>\n",
       "    .dataframe tbody tr th:only-of-type {\n",
       "        vertical-align: middle;\n",
       "    }\n",
       "\n",
       "    .dataframe tbody tr th {\n",
       "        vertical-align: top;\n",
       "    }\n",
       "\n",
       "    .dataframe thead th {\n",
       "        text-align: right;\n",
       "    }\n",
       "</style>\n",
       "<table border=\"1\" class=\"dataframe\">\n",
       "  <thead>\n",
       "    <tr style=\"text-align: right;\">\n",
       "      <th></th>\n",
       "      <th>Open</th>\n",
       "      <th>High</th>\n",
       "      <th>Low</th>\n",
       "      <th>Close</th>\n",
       "      <th>Volume</th>\n",
       "    </tr>\n",
       "    <tr>\n",
       "      <th>Datetime</th>\n",
       "      <th></th>\n",
       "      <th></th>\n",
       "      <th></th>\n",
       "      <th></th>\n",
       "      <th></th>\n",
       "    </tr>\n",
       "  </thead>\n",
       "  <tbody>\n",
       "    <tr>\n",
       "      <th>2021-10-12 08:00:00-04:00</th>\n",
       "      <td>143.229996</td>\n",
       "      <td>143.250000</td>\n",
       "      <td>141.419998</td>\n",
       "      <td>142.300003</td>\n",
       "      <td>28543954</td>\n",
       "    </tr>\n",
       "    <tr>\n",
       "      <th>2021-10-12 12:00:00-04:00</th>\n",
       "      <td>142.300003</td>\n",
       "      <td>142.979996</td>\n",
       "      <td>141.040100</td>\n",
       "      <td>141.460007</td>\n",
       "      <td>30587092</td>\n",
       "    </tr>\n",
       "    <tr>\n",
       "      <th>2021-10-13 08:00:00-04:00</th>\n",
       "      <td>141.235001</td>\n",
       "      <td>141.399994</td>\n",
       "      <td>139.199997</td>\n",
       "      <td>140.122101</td>\n",
       "      <td>37351758</td>\n",
       "    </tr>\n",
       "    <tr>\n",
       "      <th>2021-10-13 12:00:00-04:00</th>\n",
       "      <td>140.125000</td>\n",
       "      <td>141.029999</td>\n",
       "      <td>139.800003</td>\n",
       "      <td>140.960007</td>\n",
       "      <td>31810224</td>\n",
       "    </tr>\n",
       "    <tr>\n",
       "      <th>2021-10-14 08:00:00-04:00</th>\n",
       "      <td>142.110001</td>\n",
       "      <td>143.289993</td>\n",
       "      <td>141.509995</td>\n",
       "      <td>143.190002</td>\n",
       "      <td>30137157</td>\n",
       "    </tr>\n",
       "  </tbody>\n",
       "</table>\n",
       "</div>"
      ],
      "text/plain": [
       "                                 Open        High         Low       Close  \\\n",
       "Datetime                                                                    \n",
       "2021-10-12 08:00:00-04:00  143.229996  143.250000  141.419998  142.300003   \n",
       "2021-10-12 12:00:00-04:00  142.300003  142.979996  141.040100  141.460007   \n",
       "2021-10-13 08:00:00-04:00  141.235001  141.399994  139.199997  140.122101   \n",
       "2021-10-13 12:00:00-04:00  140.125000  141.029999  139.800003  140.960007   \n",
       "2021-10-14 08:00:00-04:00  142.110001  143.289993  141.509995  143.190002   \n",
       "\n",
       "                             Volume  \n",
       "Datetime                             \n",
       "2021-10-12 08:00:00-04:00  28543954  \n",
       "2021-10-12 12:00:00-04:00  30587092  \n",
       "2021-10-13 08:00:00-04:00  37351758  \n",
       "2021-10-13 12:00:00-04:00  31810224  \n",
       "2021-10-14 08:00:00-04:00  30137157  "
      ]
     },
     "execution_count": 6,
     "metadata": {},
     "output_type": "execute_result"
    }
   ],
   "source": [
    "# Resample data to 4 hours data\n",
    "apple_minute_data_4H = apple_minute_data.resample('4H').agg(ohlcv_dict)\n",
    "\n",
    "# Drop the missing values\n",
    "apple_minute_data_4H.dropna(inplace=True)\n",
    "\n",
    "# Display the first 5 rows\n",
    "apple_minute_data_4H.head()"
   ]
  },
  {
   "cell_type": "markdown",
   "id": "e40a33e4",
   "metadata": {
    "id": "eIR76DhxD2-C"
   },
   "source": [
    "## Tweak the code\n",
    "\n",
    "You can tweak the code in the following ways:\n",
    "\n",
    "1. Use different asset other than the `AAPL` of your choice and download the data.\n",
    "2. Use a different time interval to resample the data.\n",
    "<br><br>"
   ]
  }
 ],
 "metadata": {
  "colab": {
   "collapsed_sections": [],
   "name": "Minute Price Data & Resampling Techniques.ipynb",
   "provenance": []
  },
  "kernelspec": {
   "display_name": "Python 3 (ipykernel)",
   "language": "python",
   "name": "python3"
  },
  "language_info": {
   "codemirror_mode": {
    "name": "ipython",
    "version": 3
   },
   "file_extension": ".py",
   "mimetype": "text/x-python",
   "name": "python",
   "nbconvert_exporter": "python",
   "pygments_lexer": "ipython3",
   "version": "3.9.5"
  }
 },
 "nbformat": 4,
 "nbformat_minor": 5
}

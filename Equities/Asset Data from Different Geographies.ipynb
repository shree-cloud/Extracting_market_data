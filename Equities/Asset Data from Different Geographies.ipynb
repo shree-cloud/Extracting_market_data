{
 "cells": [
  {
   "cell_type": "markdown",
   "id": "f1178c71-8e3a-45a0-8fac-4469c8789939",
   "metadata": {},
   "source": [
    "# Notebook Instructions\n",
    "\n",
    "1. If you are new to Jupyter notebooks, please go through this introductory manual <a href='https://quantra.quantinsti.com/quantra-notebook' target=\"_blank\">here</a>.\n",
    "1. Any changes made in this notebook would be lost after you close the browser window. **You can download the notebook to save your work on your PC.**\n",
    "1. Before running this notebook on your local PC:<br>\n",
    "i.  You need to set up a Python environment and the relevant packages on your local PC. To do so, go through the section on \"**Run Codes Locally on Your Machine**\" in the course.<br>\n",
    "ii. You need to **download the zip file available in the last unit** of this course. The zip file contains the data files and/or python modules that might be required to run this notebook."
   ]
  },
  {
   "cell_type": "markdown",
   "id": "778d8927",
   "metadata": {
    "id": "778d8927"
   },
   "source": [
    "## Asset Data from Different Geographies\n",
    "\n",
    "In this notebook, you will learn how to get the stock data for a specific asset from your local market. This notebook will help you fetch the data for assets from different geographies, apart from the commonly available S&P 500 assets.\n",
    "\n",
    "Note: At times, downloading the data may give you errors due to changes in yahoo finance. \n",
    "\n",
    "In such cases, it is recommended to upgrade the `yfinance` package using `pip install --upgrade yfinance`. You can update the 'cell type' for the below from 'Raw NBConvert' to a 'Code' cell. Then restart the kernel and run all of the following cells again."
   ]
  },
  {
   "cell_type": "raw",
   "id": "6201d974",
   "metadata": {},
   "source": [
    "pip install --upgrade yfinance"
   ]
  },
  {
   "cell_type": "markdown",
   "id": "76cf2c67",
   "metadata": {},
   "source": [
    "## Import Libraries"
   ]
  },
  {
   "cell_type": "code",
   "execution_count": null,
   "id": "e7fe0721",
   "metadata": {
    "id": "e7fe0721"
   },
   "outputs": [],
   "source": [
    "# For data manipulation\n",
    "import pandas as pd\n",
    "\n",
    "# To fetch financial data\n",
    "import yfinance as yf"
   ]
  },
  {
   "cell_type": "markdown",
   "id": "42f02e88",
   "metadata": {
    "id": "42f02e88"
   },
   "source": [
    "<a id = 'exchange-data'></a>\n",
    "## Get Price Data for a Specific Asset\n",
    "\n",
    "To download the daily price data for a specific asset from Yahoo! Finance, you can follow the below steps:\n",
    "\n",
    "1. Visit the Yahoo! Finance website <a href='https://finance.yahoo.com/' target=\"_blank\" >here</a>.\n",
    "<br><br>\n",
    "<html>\n",
    "<img src=https://d2a032ejo53cab.cloudfront.net/Glossary/Dd83hGie/Yahoo00.png>\n",
    "</html>\n",
    "<br><br>\n",
    "2. Enter the desired company/asset name in the search bar to identify its  ticker symbols.\n",
    "<br>For example, entering `Infosys` will display ticker symbols `INFY` (for the `NYQ` exchange), `INFY.NS` (for the `NSE` exchange) & `INFY.BO` (for the `BSE` exchange).\n",
    "<br><br>\n",
    "<html>\n",
    "<img src=https://d2a032ejo53cab.cloudfront.net/Glossary/XV5KwHrd/Yahoo01.png>\n",
    "</html>\n",
    "<br><br>\n",
    "3. Look for the most relevant symbol from the drop-down menu. You can click on the search result to display additional information related to the specific asset.\n",
    "<br><br>\n",
    "<html>\n",
    "<img src=https://d2a032ejo53cab.cloudfront.net/Glossary/mTRZpau2/Yahoo03.png\n",
    "</html>\n",
    "<br>\n",
    "**Note:** You can find the suffix code of all available exchanges and data providers listed on Yahoo! Finance <a href='https://help.yahoo.com/kb/SLN2310.html' target=\"_blank\" >here</a>."
   ]
  },
  {
   "cell_type": "code",
   "execution_count": null,
   "id": "57ba4734",
   "metadata": {
    "id": "57ba4734",
    "outputId": "c8064315-7f14-4ed1-fd45-424f83ec0a2d"
   },
   "outputs": [
    {
     "name": "stdout",
     "output_type": "stream",
     "text": [
      "[*********************100%***********************]  1 of 1 completed\n"
     ]
    },
    {
     "data": {
      "text/html": [
       "<div>\n",
       "<style scoped>\n",
       "    .dataframe tbody tr th:only-of-type {\n",
       "        vertical-align: middle;\n",
       "    }\n",
       "\n",
       "    .dataframe tbody tr th {\n",
       "        vertical-align: top;\n",
       "    }\n",
       "\n",
       "    .dataframe thead th {\n",
       "        text-align: right;\n",
       "    }\n",
       "</style>\n",
       "<table border=\"1\" class=\"dataframe\">\n",
       "  <thead>\n",
       "    <tr style=\"text-align: right;\">\n",
       "      <th></th>\n",
       "      <th>Open</th>\n",
       "      <th>High</th>\n",
       "      <th>Low</th>\n",
       "      <th>Close</th>\n",
       "      <th>Volume</th>\n",
       "    </tr>\n",
       "    <tr>\n",
       "      <th>Date</th>\n",
       "      <th></th>\n",
       "      <th></th>\n",
       "      <th></th>\n",
       "      <th></th>\n",
       "      <th></th>\n",
       "    </tr>\n",
       "  </thead>\n",
       "  <tbody>\n",
       "    <tr>\n",
       "      <th>2021-07-05</th>\n",
       "      <td>1569.150024</td>\n",
       "      <td>1585.000000</td>\n",
       "      <td>1561.050049</td>\n",
       "      <td>1578.949951</td>\n",
       "      <td>4058338</td>\n",
       "    </tr>\n",
       "    <tr>\n",
       "      <th>2021-07-06</th>\n",
       "      <td>1573.699951</td>\n",
       "      <td>1586.750000</td>\n",
       "      <td>1557.099976</td>\n",
       "      <td>1562.199951</td>\n",
       "      <td>4089574</td>\n",
       "    </tr>\n",
       "    <tr>\n",
       "      <th>2021-07-07</th>\n",
       "      <td>1566.050049</td>\n",
       "      <td>1570.550049</td>\n",
       "      <td>1544.650024</td>\n",
       "      <td>1564.599976</td>\n",
       "      <td>4797120</td>\n",
       "    </tr>\n",
       "    <tr>\n",
       "      <th>2021-07-08</th>\n",
       "      <td>1568.000000</td>\n",
       "      <td>1576.000000</td>\n",
       "      <td>1549.000000</td>\n",
       "      <td>1560.750000</td>\n",
       "      <td>3326813</td>\n",
       "    </tr>\n",
       "    <tr>\n",
       "      <th>2021-07-09</th>\n",
       "      <td>1556.000000</td>\n",
       "      <td>1569.900024</td>\n",
       "      <td>1551.000000</td>\n",
       "      <td>1558.599976</td>\n",
       "      <td>2066526</td>\n",
       "    </tr>\n",
       "  </tbody>\n",
       "</table>\n",
       "</div>"
      ],
      "text/plain": [
       "                   Open         High          Low        Close   Volume\n",
       "Date                                                                   \n",
       "2021-07-05  1569.150024  1585.000000  1561.050049  1578.949951  4058338\n",
       "2021-07-06  1573.699951  1586.750000  1557.099976  1562.199951  4089574\n",
       "2021-07-07  1566.050049  1570.550049  1544.650024  1564.599976  4797120\n",
       "2021-07-08  1568.000000  1576.000000  1549.000000  1560.750000  3326813\n",
       "2021-07-09  1556.000000  1569.900024  1551.000000  1558.599976  2066526"
      ]
     },
     "execution_count": 2,
     "metadata": {
      "tags": []
     },
     "output_type": "execute_result"
    }
   ],
   "source": [
    "# Download the data for Infosys from NSE exchange\n",
    "# Adjust the daily price data till the current date is fetched\n",
    "# Set the ticker as 'INFY', add the suffix '.NS' to specify the exchange\n",
    "price_data_infosys = yf.download(\n",
    "    \"INFY.NS\", start=\"2019-01-02\", auto_adjust=True)\n",
    "\n",
    "# Set the index to a datetime object\n",
    "price_data_infosys.index = pd.to_datetime(price_data_infosys.index)\n",
    "\n",
    "# Display the first 5 rows\n",
    "price_data_infosys.tail()"
   ]
  },
  {
   "cell_type": "markdown",
   "id": "1fa77ab1",
   "metadata": {
    "id": "1fa77ab1"
   },
   "source": [
    "The asset data for tickers from different geographies can be fetched in a similar fashion by looking up the ticker symbol on the Yahoo! Finance website.\n",
    "\n",
    "## Tweak the Code\n",
    "\n",
    "You can tweak the code in the following ways:\n",
    "\n",
    "1. Search for your favourite companies/assets and try to download their data.\n",
    "2. Make changes in the start and end dates to fetch data for different periods.\n",
    "\n",
    "In the next notebook, you will learn how to download multiple asset data and S&P 500 data.\n",
    "<br><br>"
   ]
  }
 ],
 "metadata": {
  "colab": {
   "collapsed_sections": [],
   "name": "Data_from_Different_Geographies.ipynb",
   "provenance": []
  },
  "kernelspec": {
   "display_name": "Python 3 (ipykernel)",
   "language": "python",
   "name": "python3"
  },
  "language_info": {
   "codemirror_mode": {
    "name": "ipython",
    "version": 3
   },
   "file_extension": ".py",
   "mimetype": "text/x-python",
   "name": "python",
   "nbconvert_exporter": "python",
   "pygments_lexer": "ipython3",
   "version": "3.9.5"
  }
 },
 "nbformat": 4,
 "nbformat_minor": 5
}

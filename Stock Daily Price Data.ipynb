{
 "cells": [
  {
   "cell_type": "markdown",
   "metadata": {
    "id": "uCGIiM5QDkoc"
   },
   "source": [
    "# Notebook Instructions\n",
    "\n",
    "1. If you are new to Jupyter notebooks, please go through this introductory manual <a href='https://quantra.quantinsti.com/quantra-notebook' target=\"_blank\">here</a>.\n",
    "1. Any changes made in this notebook would be lost after you close the browser window. **You can download the notebook to save your work on your PC.**\n",
    "1. Before running this notebook on your local PC:<br>\n",
    "i.  You need to set up a Python environment and the relevant packages on your local PC. To do so, go through the section on \"**Run Codes Locally on Your Machine**\" in the course.<br>\n",
    "ii. You need to **download the zip file available in the last unit** of this course. The zip file contains the data files and/or python modules that might be required to run this notebook."
   ]
  },
  {
   "cell_type": "markdown",
   "metadata": {
    "id": "SjgrtZTZnnyW"
   },
   "source": [
    "## Daily Stock Price Data\n",
    "\n",
    "Access to historical price data is a necessity when you plan to create and backtest your strategy. There are several web sources and Python packages available to download the data. In this notebook, you will learn how to download the daily stock price data by running a few lines of Python code. \n",
    "\n",
    "The following video will take you step by step through this notebook.\n",
    "\n",
    "**Tip:** If you're unable to see the video below, please run the below code cell again by using **\"Shift\"** + **\"Enter\"** keys."
   ]
  },
  {
   "cell_type": "code",
   "execution_count": 1,
   "metadata": {},
   "outputs": [
    {
     "data": {
      "image/jpeg": "[encoded data removed]",
      "text/html": [
       "\n",
       "        <iframe\n",
       "            width=\"700\"\n",
       "            height=\"400\"\n",
       "            src=\"https://www.youtube.com/embed/ruwdxcUsmKU?autoplay=0\"\n",
       "            frameborder=\"0\"\n",
       "            allowfullscreen\n",
       "        ></iframe>\n",
       "        "
      ],
      "text/plain": [
       "<IPython.lib.display.YouTubeVideo at 0x2060c8da910>"
      ]
     },
     "execution_count": 1,
     "metadata": {},
     "output_type": "execute_result"
    }
   ],
   "source": [
    "from IPython.display import YouTubeVideo\n",
    "YouTubeVideo('ruwdxcUsmKU', width=700, height=400, autoplay=0)"
   ]
  },
  {
   "cell_type": "markdown",
   "metadata": {},
   "source": [
    "In this notebook, you will download the:\n",
    "1. [Daily Price Data](#daily-data)\n",
    "2. [Adjusted Daily Price Data](#adjusted-daily-data)\n",
    "\n",
    "Note: At times, downloading the data may give you errors due to changes in yahoo finance. \n",
    "\n",
    "In such cases, it is recommended to upgrade the `yfinance` package using `pip install --upgrade yfinance`. You can update the 'cell type' for the below from 'Raw NBConvert' to a 'Code' cell. Then restart the kernel and run all of the following cells again."
   ]
  },
  {
   "cell_type": "raw",
   "metadata": {},
   "source": [
    "pip install --upgrade yfinance"
   ]
  },
  {
   "cell_type": "markdown",
   "metadata": {},
   "source": [
    "## Import Libraries\n",
    "\n",
    "Let’s start by importing the `pandas` and `yfinance` packages. You can also assign an alias to these packages. We have assigned an alias of `pd` for `pandas` and `yf` for `yfinance`."
   ]
  },
  {
   "cell_type": "code",
   "execution_count": 2,
   "metadata": {},
   "outputs": [],
   "source": [
    "# For data manipulation\n",
    "import pandas as pd\n",
    "\n",
    "# To fetch financial data\n",
    "import yfinance as yf"
   ]
  },
  {
   "cell_type": "markdown",
   "metadata": {},
   "source": [
    "<a id='daily-data'></a> \n",
    "## Daily Price Data\n",
    "\n",
    "To download the daily price data, you will use the `yfinance` module to download the data from Yahoo! Finance.\n",
    "\n",
    "Yahoo! Finance is part of Yahoo’s network and was sold in 2017 to Verizon Media. It is the largest business news website in the United States by monthly traffic and provides financial news, data and commentary including stock quotes, press releases, financial reports, and original content.\n",
    "\n",
    "They provide market data on cryptocurrencies, regular currencies, commodity futures, stocks and bonds, fundamental and options data, and market analysis and news.\n",
    "\n",
    "You can then use the `download()` method of the `yfinance` package to download the dataset.\n",
    "\n",
    "Syntax:\n",
    "```python\n",
    "import yfinance as yf\n",
    "yf.download(ticker, start, end)\n",
    "```\n",
    "\n",
    "Parameters:\n",
    "1. **ticker:** Ticker of the asset\n",
    "2. **start:** Start date\n",
    "3. **end:** End date, if not specified, data is downloaded till current data.\n",
    "\n",
    "Returns:<br>\n",
    "A `pandas` dataframe containing the open, high, low, close and adjusted close price along with the volume for all the trading days between the start and the end date."
   ]
  },
  {
   "cell_type": "code",
   "execution_count": 3,
   "metadata": {
    "id": "HNeTGuhZnnye",
    "outputId": "44fca6ff-c53f-4e96-d0eb-52077654c51a"
   },
   "outputs": [
    {
     "name": "stdout",
     "output_type": "stream",
     "text": [
      "[*********************100%***********************]  1 of 1 completed\n"
     ]
    },
    {
     "data": {
      "text/html": [
       "<div>\n",
       "<style scoped>\n",
       "    .dataframe tbody tr th:only-of-type {\n",
       "        vertical-align: middle;\n",
       "    }\n",
       "\n",
       "    .dataframe tbody tr th {\n",
       "        vertical-align: top;\n",
       "    }\n",
       "\n",
       "    .dataframe thead th {\n",
       "        text-align: right;\n",
       "    }\n",
       "</style>\n",
       "<table border=\"1\" class=\"dataframe\">\n",
       "  <thead>\n",
       "    <tr style=\"text-align: right;\">\n",
       "      <th></th>\n",
       "      <th>Open</th>\n",
       "      <th>High</th>\n",
       "      <th>Low</th>\n",
       "      <th>Close</th>\n",
       "      <th>Adj Close</th>\n",
       "      <th>Volume</th>\n",
       "    </tr>\n",
       "    <tr>\n",
       "      <th>Date</th>\n",
       "      <th></th>\n",
       "      <th></th>\n",
       "      <th></th>\n",
       "      <th></th>\n",
       "      <th></th>\n",
       "      <th></th>\n",
       "    </tr>\n",
       "  </thead>\n",
       "  <tbody>\n",
       "    <tr>\n",
       "      <th>2019-12-23</th>\n",
       "      <td>70.132500</td>\n",
       "      <td>71.062500</td>\n",
       "      <td>70.092499</td>\n",
       "      <td>71.000000</td>\n",
       "      <td>69.769279</td>\n",
       "      <td>98572000</td>\n",
       "    </tr>\n",
       "    <tr>\n",
       "      <th>2019-12-24</th>\n",
       "      <td>71.172501</td>\n",
       "      <td>71.222504</td>\n",
       "      <td>70.730003</td>\n",
       "      <td>71.067497</td>\n",
       "      <td>69.835594</td>\n",
       "      <td>48478800</td>\n",
       "    </tr>\n",
       "    <tr>\n",
       "      <th>2019-12-26</th>\n",
       "      <td>71.205002</td>\n",
       "      <td>72.495003</td>\n",
       "      <td>71.175003</td>\n",
       "      <td>72.477501</td>\n",
       "      <td>71.221161</td>\n",
       "      <td>93121200</td>\n",
       "    </tr>\n",
       "    <tr>\n",
       "      <th>2019-12-27</th>\n",
       "      <td>72.779999</td>\n",
       "      <td>73.492500</td>\n",
       "      <td>72.029999</td>\n",
       "      <td>72.449997</td>\n",
       "      <td>71.194130</td>\n",
       "      <td>146266000</td>\n",
       "    </tr>\n",
       "    <tr>\n",
       "      <th>2019-12-30</th>\n",
       "      <td>72.364998</td>\n",
       "      <td>73.172501</td>\n",
       "      <td>71.305000</td>\n",
       "      <td>72.879997</td>\n",
       "      <td>71.616676</td>\n",
       "      <td>144114400</td>\n",
       "    </tr>\n",
       "  </tbody>\n",
       "</table>\n",
       "</div>"
      ],
      "text/plain": [
       "                 Open       High        Low      Close  Adj Close     Volume\n",
       "Date                                                                        \n",
       "2019-12-23  70.132500  71.062500  70.092499  71.000000  69.769279   98572000\n",
       "2019-12-24  71.172501  71.222504  70.730003  71.067497  69.835594   48478800\n",
       "2019-12-26  71.205002  72.495003  71.175003  72.477501  71.221161   93121200\n",
       "2019-12-27  72.779999  73.492500  72.029999  72.449997  71.194130  146266000\n",
       "2019-12-30  72.364998  73.172501  71.305000  72.879997  71.616676  144114400"
      ]
     },
     "execution_count": 3,
     "metadata": {},
     "output_type": "execute_result"
    }
   ],
   "source": [
    "# Download the price data of Apple from Jan 2019 to Dec 2019\n",
    "# Set the ticker as 'AAPL' and specify the start and end dates\n",
    "price_data_apple = yf.download('AAPL', start='2019-01-01', end='2019-12-31')\n",
    "\n",
    "# Display the first 5 rows\n",
    "price_data_apple.tail()"
   ]
  },
  {
   "cell_type": "markdown",
   "metadata": {},
   "source": [
    "You can see the data of the last few days of the Year 2019. If you want to visualise the full data, then you can use `matplotlib` to plot the close price series for the entire year of 2019. \n",
    "\n",
    "## Plot the Close Price"
   ]
  },
  {
   "cell_type": "code",
   "execution_count": 4,
   "metadata": {},
   "outputs": [
    {
     "data": {
      "image/png": "[encoded data removed]",
      "text/plain": [
       "<Figure size 1080x504 with 1 Axes>"
      ]
     },
     "metadata": {},
     "output_type": "display_data"
    }
   ],
   "source": [
    "# Libraries for data visualisation\n",
    "import matplotlib.pyplot as plt\n",
    "%matplotlib inline\n",
    "plt.style.use('seaborn-darkgrid')\n",
    "\n",
    "# Plot the close price\n",
    "plt.figure(figsize=(15, 7))\n",
    "price_data_apple['Close'].plot()\n",
    "\n",
    "# Set the title and axes label\n",
    "plt.title('Apple Price Data', fontsize=14)\n",
    "plt.xlabel('Year-Month', fontsize=12)\n",
    "plt.ylabel('Price', fontsize=12)\n",
    "\n",
    "# Show the plot\n",
    "plt.show()"
   ]
  },
  {
   "cell_type": "markdown",
   "metadata": {},
   "source": [
    "We can see that Apple has been fairly trending upwards. \n",
    "\n",
    "## It's Your Turn!\n",
    "\n",
    "You can tweak the code in the following ways:\n",
    "1. Use the ticker of your favourite stocks, for eg: `MSFT` and download the daily data.\n",
    "2. Specify the `start` and `end` dates as per your preference."
   ]
  },
  {
   "cell_type": "code",
   "execution_count": null,
   "metadata": {},
   "outputs": [],
   "source": [
    "# Download the price data of your favourite stock\n",
    "# For eg: You can set the ticker as \"MSFT\"\n",
    "price_data = yf.download(\"____\", start=\"____\", end=\"____\")\n",
    "\n",
    "# Display the last 5 rows\n",
    "price_data.tail()"
   ]
  },
  {
   "cell_type": "markdown",
   "metadata": {},
   "source": [
    "The last 5 rows of the price data for the Apple stock has been printed below. Do you find something interesting in the data?"
   ]
  },
  {
   "cell_type": "code",
   "execution_count": 5,
   "metadata": {},
   "outputs": [
    {
     "data": {
      "text/html": [
       "<div>\n",
       "<style scoped>\n",
       "    .dataframe tbody tr th:only-of-type {\n",
       "        vertical-align: middle;\n",
       "    }\n",
       "\n",
       "    .dataframe tbody tr th {\n",
       "        vertical-align: top;\n",
       "    }\n",
       "\n",
       "    .dataframe thead th {\n",
       "        text-align: right;\n",
       "    }\n",
       "</style>\n",
       "<table border=\"1\" class=\"dataframe\">\n",
       "  <thead>\n",
       "    <tr style=\"text-align: right;\">\n",
       "      <th></th>\n",
       "      <th>Open</th>\n",
       "      <th>High</th>\n",
       "      <th>Low</th>\n",
       "      <th>Close</th>\n",
       "      <th>Adj Close</th>\n",
       "      <th>Volume</th>\n",
       "    </tr>\n",
       "    <tr>\n",
       "      <th>Date</th>\n",
       "      <th></th>\n",
       "      <th></th>\n",
       "      <th></th>\n",
       "      <th></th>\n",
       "      <th></th>\n",
       "      <th></th>\n",
       "    </tr>\n",
       "  </thead>\n",
       "  <tbody>\n",
       "    <tr>\n",
       "      <th>2019-12-23</th>\n",
       "      <td>70.132500</td>\n",
       "      <td>71.062500</td>\n",
       "      <td>70.092499</td>\n",
       "      <td>71.000000</td>\n",
       "      <td>69.769279</td>\n",
       "      <td>98572000</td>\n",
       "    </tr>\n",
       "    <tr>\n",
       "      <th>2019-12-24</th>\n",
       "      <td>71.172501</td>\n",
       "      <td>71.222504</td>\n",
       "      <td>70.730003</td>\n",
       "      <td>71.067497</td>\n",
       "      <td>69.835594</td>\n",
       "      <td>48478800</td>\n",
       "    </tr>\n",
       "    <tr>\n",
       "      <th>2019-12-26</th>\n",
       "      <td>71.205002</td>\n",
       "      <td>72.495003</td>\n",
       "      <td>71.175003</td>\n",
       "      <td>72.477501</td>\n",
       "      <td>71.221161</td>\n",
       "      <td>93121200</td>\n",
       "    </tr>\n",
       "    <tr>\n",
       "      <th>2019-12-27</th>\n",
       "      <td>72.779999</td>\n",
       "      <td>73.492500</td>\n",
       "      <td>72.029999</td>\n",
       "      <td>72.449997</td>\n",
       "      <td>71.194130</td>\n",
       "      <td>146266000</td>\n",
       "    </tr>\n",
       "    <tr>\n",
       "      <th>2019-12-30</th>\n",
       "      <td>72.364998</td>\n",
       "      <td>73.172501</td>\n",
       "      <td>71.305000</td>\n",
       "      <td>72.879997</td>\n",
       "      <td>71.616676</td>\n",
       "      <td>144114400</td>\n",
       "    </tr>\n",
       "  </tbody>\n",
       "</table>\n",
       "</div>"
      ],
      "text/plain": [
       "                 Open       High        Low      Close  Adj Close     Volume\n",
       "Date                                                                        \n",
       "2019-12-23  70.132500  71.062500  70.092499  71.000000  69.769279   98572000\n",
       "2019-12-24  71.172501  71.222504  70.730003  71.067497  69.835594   48478800\n",
       "2019-12-26  71.205002  72.495003  71.175003  72.477501  71.221161   93121200\n",
       "2019-12-27  72.779999  73.492500  72.029999  72.449997  71.194130  146266000\n",
       "2019-12-30  72.364998  73.172501  71.305000  72.879997  71.616676  144114400"
      ]
     },
     "execution_count": 5,
     "metadata": {},
     "output_type": "execute_result"
    }
   ],
   "source": [
    "price_data_apple.tail()"
   ]
  },
  {
   "cell_type": "markdown",
   "metadata": {},
   "source": [
    "In the data, you can see both the **Close** and the **Adjusted Close** prices. The adjusted prices are adjusted for corporate actions such as stock splits, dividends, and rights offerings. \n",
    "\n",
    "So far, you only have the adjusted close prices. But how can you fetch the adjusted open, high, low, and volume data?\n",
    "\n",
    "<a id='adjusted-daily-data'></a> \n",
    "## Adjusted Daily Price Data\n",
    "\n",
    "To download the adjusted dataset, you simply need to define the `auto_adjust` parameter to be `True` in the `download()` method.\n",
    "\n",
    "Syntax:\n",
    "\n",
    "```python\n",
    "yf.download(ticker, start, end, auto_adjust=True)\n",
    "```\n",
    "\n",
    "Returns:\n",
    "A `pandas` dataframe containing the adjusted open, high, low and close price along with the volume for all trading days between the start and the end date."
   ]
  },
  {
   "cell_type": "code",
   "execution_count": 6,
   "metadata": {
    "id": "aAleOkDAnnyg",
    "outputId": "ab0337dc-dfcb-4219-b7c6-fb298f470413"
   },
   "outputs": [
    {
     "name": "stdout",
     "output_type": "stream",
     "text": [
      "[*********************100%***********************]  1 of 1 completed\n"
     ]
    },
    {
     "data": {
      "text/html": [
       "<div>\n",
       "<style scoped>\n",
       "    .dataframe tbody tr th:only-of-type {\n",
       "        vertical-align: middle;\n",
       "    }\n",
       "\n",
       "    .dataframe tbody tr th {\n",
       "        vertical-align: top;\n",
       "    }\n",
       "\n",
       "    .dataframe thead th {\n",
       "        text-align: right;\n",
       "    }\n",
       "</style>\n",
       "<table border=\"1\" class=\"dataframe\">\n",
       "  <thead>\n",
       "    <tr style=\"text-align: right;\">\n",
       "      <th></th>\n",
       "      <th>Open</th>\n",
       "      <th>High</th>\n",
       "      <th>Low</th>\n",
       "      <th>Close</th>\n",
       "      <th>Volume</th>\n",
       "    </tr>\n",
       "    <tr>\n",
       "      <th>Date</th>\n",
       "      <th></th>\n",
       "      <th></th>\n",
       "      <th></th>\n",
       "      <th></th>\n",
       "      <th></th>\n",
       "    </tr>\n",
       "  </thead>\n",
       "  <tbody>\n",
       "    <tr>\n",
       "      <th>2019-12-23</th>\n",
       "      <td>68.916809</td>\n",
       "      <td>69.830688</td>\n",
       "      <td>68.877501</td>\n",
       "      <td>69.769272</td>\n",
       "      <td>98572000</td>\n",
       "    </tr>\n",
       "    <tr>\n",
       "      <th>2019-12-24</th>\n",
       "      <td>69.938777</td>\n",
       "      <td>69.987914</td>\n",
       "      <td>69.503950</td>\n",
       "      <td>69.835594</td>\n",
       "      <td>48478800</td>\n",
       "    </tr>\n",
       "    <tr>\n",
       "      <th>2019-12-26</th>\n",
       "      <td>69.970735</td>\n",
       "      <td>71.238375</td>\n",
       "      <td>69.941256</td>\n",
       "      <td>71.221176</td>\n",
       "      <td>93121200</td>\n",
       "    </tr>\n",
       "    <tr>\n",
       "      <th>2019-12-27</th>\n",
       "      <td>71.518411</td>\n",
       "      <td>72.218562</td>\n",
       "      <td>70.781412</td>\n",
       "      <td>71.194130</td>\n",
       "      <td>146266000</td>\n",
       "    </tr>\n",
       "    <tr>\n",
       "      <th>2019-12-30</th>\n",
       "      <td>71.110604</td>\n",
       "      <td>71.904109</td>\n",
       "      <td>70.068981</td>\n",
       "      <td>71.616676</td>\n",
       "      <td>144114400</td>\n",
       "    </tr>\n",
       "  </tbody>\n",
       "</table>\n",
       "</div>"
      ],
      "text/plain": [
       "                 Open       High        Low      Close     Volume\n",
       "Date                                                             \n",
       "2019-12-23  68.916809  69.830688  68.877501  69.769272   98572000\n",
       "2019-12-24  69.938777  69.987914  69.503950  69.835594   48478800\n",
       "2019-12-26  69.970735  71.238375  69.941256  71.221176   93121200\n",
       "2019-12-27  71.518411  72.218562  70.781412  71.194130  146266000\n",
       "2019-12-30  71.110604  71.904109  70.068981  71.616676  144114400"
      ]
     },
     "execution_count": 6,
     "metadata": {},
     "output_type": "execute_result"
    }
   ],
   "source": [
    "# Download the adjusted price data for Apple from Jan 2019 to the current date\n",
    "price_data_apple_adjusted = yf.download(\n",
    "    'AAPL', start='2019-01-01', end='2019-12-31', auto_adjust=True)\n",
    "\n",
    "# Display the first 5 rows\n",
    "price_data_apple_adjusted.tail()"
   ]
  },
  {
   "cell_type": "markdown",
   "metadata": {},
   "source": [
    "## Tweak the Code\n",
    "\n",
    "We got the adjusted price data for apple stock. Now, try downloading the adjusted price data for different assets. Remember to set the `auto_adjust` parameter as `True`."
   ]
  },
  {
   "cell_type": "code",
   "execution_count": null,
   "metadata": {},
   "outputs": [],
   "source": [
    "# Download the adjusted price data of your favourite stock\n",
    "price_data_adjusted = yf.download(\n",
    "    \"____\", start=\"____\", end=\"____\", auto_adjust=____)\n",
    "\n",
    "# Display the last 5 rows\n",
    "price_data_adjusted.tail()"
   ]
  },
  {
   "cell_type": "markdown",
   "metadata": {},
   "source": [
    "Do practise the code covered so far in this Jupyter notebook. In the next notebook, you will learn how to download the data for multiple assets as well as the S&P 500.\n",
    "<br><br>"
   ]
  }
 ],
 "metadata": {
  "colab": {
   "collapsed_sections": [],
   "name": "Daily Data.ipynb",
   "provenance": []
  },
  "kernelspec": {
   "display_name": "Python 3 (ipykernel)",
   "language": "python",
   "name": "python3"
  },
  "language_info": {
   "codemirror_mode": {
    "name": "ipython",
    "version": 3
   },
   "file_extension": ".py",
   "mimetype": "text/x-python",
   "name": "python",
   "nbconvert_exporter": "python",
   "pygments_lexer": "ipython3",
   "version": "3.9.5"
  }
 },
 "nbformat": 4,
 "nbformat_minor": 1
}
